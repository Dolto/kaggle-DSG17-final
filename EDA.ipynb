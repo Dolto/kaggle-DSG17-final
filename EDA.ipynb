{
 "cells": [
  {
   "cell_type": "code",
   "execution_count": 135,
   "metadata": {
    "collapsed": true
   },
   "outputs": [],
   "source": [
    "import pandas as pd\n",
    "\n",
    "train = pd.read_csv('data/train.csv', sep=';')\n",
    "test = pd.read_csv('data/test.csv', sep=';')"
   ]
  },
  {
   "cell_type": "code",
   "execution_count": 1,
   "metadata": {
    "collapsed": true
   },
   "outputs": [],
   "source": [
    "import pandas as pd\n",
    "\n",
    "features = pd.read_csv('data/features.csv', sep=';')"
   ]
  },
  {
   "cell_type": "code",
   "execution_count": 283,
   "metadata": {},
   "outputs": [
    {
     "data": {
      "text/plain": [
       "-0.0060153629685634966"
      ]
     },
     "execution_count": 283,
     "metadata": {},
     "output_type": "execute_result"
    }
   ],
   "source": [
    "features['OrderQty'].corr(features['last_order_days_ago_per_material'])"
   ]
  },
  {
   "cell_type": "code",
   "execution_count": 2,
   "metadata": {},
   "outputs": [
    {
     "name": "stdout",
     "output_type": "stream",
     "text": [
      "year 0.00509551975708\n",
      "last_order_days_ago_per_material -0.00601536296856\n",
      "last_order_days_ago_per_material_and_org -0.00601536296856\n",
      "median_ordered_per_material 0.721707366813\n",
      "median_ordered_per_material_and_org 0.81452125824\n",
      "mean_ordered_per_material 0.739237105962\n",
      "mean_ordered_per_material_and_org 0.82025669018\n",
      "min_ordered_per_material 0.334334527791\n",
      "min_ordered_per_material_and_org 0.585406588796\n",
      "max_ordered_per_material 0.633553976655\n",
      "max_ordered_per_material_and_org 0.72670975032\n",
      "count_ordered_per_material 0.00506997153281\n",
      "count_ordered_per_material_and_org 0.00130640966058\n",
      "month_mod -0.00220933572738\n"
     ]
    }
   ],
   "source": [
    "for col in features.columns:\n",
    "    if col not in ['ID', 'Material', 'Month', 'OrderQty', 'SalOrg', 'month']:\n",
    "        print(col, features['OrderQty'].corr(features[col]))"
   ]
  }
 ],
 "metadata": {
  "kernelspec": {
   "display_name": "Python 3",
   "language": "python",
   "name": "python3"
  },
  "language_info": {
   "codemirror_mode": {
    "name": "ipython",
    "version": 3
   },
   "file_extension": ".py",
   "mimetype": "text/x-python",
   "name": "python",
   "nbconvert_exporter": "python",
   "pygments_lexer": "ipython3",
   "version": "3.6.1"
  }
 },
 "nbformat": 4,
 "nbformat_minor": 2
}
