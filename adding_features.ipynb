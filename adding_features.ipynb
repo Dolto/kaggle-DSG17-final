{
 "cells": [
  {
   "cell_type": "code",
   "execution_count": 1,
   "metadata": {
    "collapsed": true
   },
   "outputs": [],
   "source": [
    "import pandas as pd"
   ]
  },
  {
   "cell_type": "code",
   "execution_count": 2,
   "metadata": {
    "collapsed": true
   },
   "outputs": [],
   "source": [
    "features = pd.read_csv('data/features.csv', sep=';')"
   ]
  },
  {
   "cell_type": "code",
   "execution_count": 3,
   "metadata": {},
   "outputs": [
    {
     "data": {
      "text/html": [
       "<div>\n",
       "<style>\n",
       "    .dataframe thead tr:only-child th {\n",
       "        text-align: right;\n",
       "    }\n",
       "\n",
       "    .dataframe thead th {\n",
       "        text-align: left;\n",
       "    }\n",
       "\n",
       "    .dataframe tbody tr th {\n",
       "        vertical-align: top;\n",
       "    }\n",
       "</style>\n",
       "<table border=\"1\" class=\"dataframe\">\n",
       "  <thead>\n",
       "    <tr style=\"text-align: right;\">\n",
       "      <th></th>\n",
       "      <th>ID</th>\n",
       "      <th>Material</th>\n",
       "      <th>Month</th>\n",
       "      <th>OrderQty</th>\n",
       "      <th>SalOrg</th>\n",
       "      <th>month</th>\n",
       "      <th>year</th>\n",
       "      <th>last_order_days_ago_per_material</th>\n",
       "      <th>last_order_days_ago_per_material_and_org</th>\n",
       "      <th>median_ordered_per_material</th>\n",
       "      <th>...</th>\n",
       "      <th>mean_ordered_per_material_and_org</th>\n",
       "      <th>min_ordered_per_material</th>\n",
       "      <th>min_ordered_per_material_and_org</th>\n",
       "      <th>max_ordered_per_material</th>\n",
       "      <th>max_ordered_per_material_and_org</th>\n",
       "      <th>q1_ordered_per_material</th>\n",
       "      <th>q1_ordered_per_material_and_org</th>\n",
       "      <th>q3_ordered_per_material</th>\n",
       "      <th>q3_ordered_per_material_and_org</th>\n",
       "      <th>month_mod</th>\n",
       "    </tr>\n",
       "  </thead>\n",
       "  <tbody>\n",
       "    <tr>\n",
       "      <th>0</th>\n",
       "      <td>NaN</td>\n",
       "      <td>00IYcj</td>\n",
       "      <td>2012-06-30</td>\n",
       "      <td>13.0</td>\n",
       "      <td>97LK</td>\n",
       "      <td>6</td>\n",
       "      <td>2012</td>\n",
       "      <td>30.0</td>\n",
       "      <td>30.0</td>\n",
       "      <td>7.0</td>\n",
       "      <td>...</td>\n",
       "      <td>2.000000</td>\n",
       "      <td>1.0</td>\n",
       "      <td>2.0</td>\n",
       "      <td>25.0</td>\n",
       "      <td>2.0</td>\n",
       "      <td>2.0</td>\n",
       "      <td>2.0</td>\n",
       "      <td>8.0</td>\n",
       "      <td>2.0</td>\n",
       "      <td>0</td>\n",
       "    </tr>\n",
       "    <tr>\n",
       "      <th>1</th>\n",
       "      <td>NaN</td>\n",
       "      <td>00IYcj</td>\n",
       "      <td>2012-07-31</td>\n",
       "      <td>1.0</td>\n",
       "      <td>97LK</td>\n",
       "      <td>7</td>\n",
       "      <td>2012</td>\n",
       "      <td>31.0</td>\n",
       "      <td>31.0</td>\n",
       "      <td>7.5</td>\n",
       "      <td>...</td>\n",
       "      <td>7.500000</td>\n",
       "      <td>1.0</td>\n",
       "      <td>2.0</td>\n",
       "      <td>25.0</td>\n",
       "      <td>13.0</td>\n",
       "      <td>4.0</td>\n",
       "      <td>2.0</td>\n",
       "      <td>8.0</td>\n",
       "      <td>2.0</td>\n",
       "      <td>1</td>\n",
       "    </tr>\n",
       "    <tr>\n",
       "      <th>2</th>\n",
       "      <td>NaN</td>\n",
       "      <td>00IYcj</td>\n",
       "      <td>2012-08-31</td>\n",
       "      <td>0.0</td>\n",
       "      <td>97LK</td>\n",
       "      <td>8</td>\n",
       "      <td>2012</td>\n",
       "      <td>31.0</td>\n",
       "      <td>31.0</td>\n",
       "      <td>7.0</td>\n",
       "      <td>...</td>\n",
       "      <td>5.333333</td>\n",
       "      <td>1.0</td>\n",
       "      <td>1.0</td>\n",
       "      <td>25.0</td>\n",
       "      <td>13.0</td>\n",
       "      <td>4.0</td>\n",
       "      <td>1.0</td>\n",
       "      <td>10.0</td>\n",
       "      <td>2.0</td>\n",
       "      <td>2</td>\n",
       "    </tr>\n",
       "    <tr>\n",
       "      <th>3</th>\n",
       "      <td>NaN</td>\n",
       "      <td>00IYcj</td>\n",
       "      <td>2012-09-30</td>\n",
       "      <td>30.0</td>\n",
       "      <td>97LK</td>\n",
       "      <td>9</td>\n",
       "      <td>2012</td>\n",
       "      <td>30.0</td>\n",
       "      <td>30.0</td>\n",
       "      <td>7.0</td>\n",
       "      <td>...</td>\n",
       "      <td>4.000000</td>\n",
       "      <td>0.0</td>\n",
       "      <td>0.0</td>\n",
       "      <td>25.0</td>\n",
       "      <td>13.0</td>\n",
       "      <td>4.0</td>\n",
       "      <td>0.0</td>\n",
       "      <td>13.0</td>\n",
       "      <td>2.0</td>\n",
       "      <td>0</td>\n",
       "    </tr>\n",
       "    <tr>\n",
       "      <th>4</th>\n",
       "      <td>NaN</td>\n",
       "      <td>00IYcj</td>\n",
       "      <td>2012-10-31</td>\n",
       "      <td>0.0</td>\n",
       "      <td>97LK</td>\n",
       "      <td>10</td>\n",
       "      <td>2012</td>\n",
       "      <td>31.0</td>\n",
       "      <td>31.0</td>\n",
       "      <td>8.0</td>\n",
       "      <td>...</td>\n",
       "      <td>9.200000</td>\n",
       "      <td>0.0</td>\n",
       "      <td>0.0</td>\n",
       "      <td>47.0</td>\n",
       "      <td>30.0</td>\n",
       "      <td>4.0</td>\n",
       "      <td>1.0</td>\n",
       "      <td>13.0</td>\n",
       "      <td>13.0</td>\n",
       "      <td>1</td>\n",
       "    </tr>\n",
       "  </tbody>\n",
       "</table>\n",
       "<p>5 rows × 22 columns</p>\n",
       "</div>"
      ],
      "text/plain": [
       "   ID Material       Month  OrderQty SalOrg  month  year  \\\n",
       "0 NaN   00IYcj  2012-06-30      13.0   97LK      6  2012   \n",
       "1 NaN   00IYcj  2012-07-31       1.0   97LK      7  2012   \n",
       "2 NaN   00IYcj  2012-08-31       0.0   97LK      8  2012   \n",
       "3 NaN   00IYcj  2012-09-30      30.0   97LK      9  2012   \n",
       "4 NaN   00IYcj  2012-10-31       0.0   97LK     10  2012   \n",
       "\n",
       "   last_order_days_ago_per_material  last_order_days_ago_per_material_and_org  \\\n",
       "0                              30.0                                      30.0   \n",
       "1                              31.0                                      31.0   \n",
       "2                              31.0                                      31.0   \n",
       "3                              30.0                                      30.0   \n",
       "4                              31.0                                      31.0   \n",
       "\n",
       "   median_ordered_per_material    ...      mean_ordered_per_material_and_org  \\\n",
       "0                          7.0    ...                               2.000000   \n",
       "1                          7.5    ...                               7.500000   \n",
       "2                          7.0    ...                               5.333333   \n",
       "3                          7.0    ...                               4.000000   \n",
       "4                          8.0    ...                               9.200000   \n",
       "\n",
       "   min_ordered_per_material  min_ordered_per_material_and_org  \\\n",
       "0                       1.0                               2.0   \n",
       "1                       1.0                               2.0   \n",
       "2                       1.0                               1.0   \n",
       "3                       0.0                               0.0   \n",
       "4                       0.0                               0.0   \n",
       "\n",
       "   max_ordered_per_material  max_ordered_per_material_and_org  \\\n",
       "0                      25.0                               2.0   \n",
       "1                      25.0                              13.0   \n",
       "2                      25.0                              13.0   \n",
       "3                      25.0                              13.0   \n",
       "4                      47.0                              30.0   \n",
       "\n",
       "   q1_ordered_per_material  q1_ordered_per_material_and_org  \\\n",
       "0                      2.0                              2.0   \n",
       "1                      4.0                              2.0   \n",
       "2                      4.0                              1.0   \n",
       "3                      4.0                              0.0   \n",
       "4                      4.0                              1.0   \n",
       "\n",
       "   q3_ordered_per_material  q3_ordered_per_material_and_org  month_mod  \n",
       "0                      8.0                              2.0          0  \n",
       "1                      8.0                              2.0          1  \n",
       "2                     10.0                              2.0          2  \n",
       "3                     13.0                              2.0          0  \n",
       "4                     13.0                             13.0          1  \n",
       "\n",
       "[5 rows x 22 columns]"
      ]
     },
     "execution_count": 3,
     "metadata": {},
     "output_type": "execute_result"
    }
   ],
   "source": [
    "features.head()"
   ]
  },
  {
   "cell_type": "code",
   "execution_count": 29,
   "metadata": {},
   "outputs": [
    {
     "name": "stderr",
     "output_type": "stream",
     "text": [
      "/Users/axelbellec/anaconda/envs/kaggle/lib/python3.5/site-packages/ipykernel/__main__.py:2: SettingWithCopyWarning: \n",
      "A value is trying to be set on a copy of a slice from a DataFrame.\n",
      "Try using .loc[row_indexer,col_indexer] = value instead\n",
      "\n",
      "See the caveats in the documentation: http://pandas.pydata.org/pandas-docs/stable/indexing.html#indexing-view-versus-copy\n",
      "  from ipykernel import kernelapp as app\n"
     ]
    }
   ],
   "source": [
    "g = features[features.Material == '03eCyI']\n",
    "g['Date'] = pd.to_datetime(g.Month)"
   ]
  },
  {
   "cell_type": "code",
   "execution_count": 31,
   "metadata": {},
   "outputs": [
    {
     "data": {
      "text/plain": [
       "<matplotlib.axes._subplots.AxesSubplot at 0x114ef4208>"
      ]
     },
     "execution_count": 31,
     "metadata": {},
     "output_type": "execute_result"
    },
    {
     "data": {
      "image/png": "[encoded data removed]",
      "text/plain": [
       "<matplotlib.figure.Figure at 0x114ddaf60>"
      ]
     },
     "metadata": {},
     "output_type": "display_data"
    }
   ],
   "source": [
    "g.plot('Date', 'OrderQty')"
   ]
  },
  {
   "cell_type": "code",
   "execution_count": null,
   "metadata": {
    "collapsed": true
   },
   "outputs": [],
   "source": []
  }
 ],
 "metadata": {
  "kernelspec": {
   "display_name": "Python [conda env:kaggle]",
   "language": "python",
   "name": "conda-env-kaggle-py"
  },
  "language_info": {
   "codemirror_mode": {
    "name": "ipython",
    "version": 3
   },
   "file_extension": ".py",
   "mimetype": "text/x-python",
   "name": "python",
   "nbconvert_exporter": "python",
   "pygments_lexer": "ipython3",
   "version": "3.5.3"
  }
 },
 "nbformat": 4,
 "nbformat_minor": 2
}
